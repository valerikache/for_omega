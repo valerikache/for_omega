{
 "cells": [
  {
   "cell_type": "code",
   "execution_count": 590,
   "id": "84cc6bfe",
   "metadata": {},
   "outputs": [
    {
     "name": "stderr",
     "output_type": "stream",
     "text": [
      "[nltk_data] Downloading package stopwords to\n",
      "[nltk_data]     /Users/babushkinavaleriia/nltk_data...\n",
      "[nltk_data]   Package stopwords is already up-to-date!\n"
     ]
    }
   ],
   "source": [
    "import json\n",
    "import itertools\n",
    "import pandas as pd\n",
    "import numpy as np\n",
    "from pymystem3 import Mystem\n",
    "import nltk\n",
    "nltk.download('stopwords')\n",
    "from nltk.corpus import stopwords\n",
    "from gensim.models import Word2Vec\n",
    "from sklearn.decomposition import PCA\n",
    "from sklearn.cluster import KMeans\n",
    "import matplotlib.pyplot as plt\n",
    "import seaborn as sns"
   ]
  },
  {
   "cell_type": "code",
   "execution_count": 3,
   "id": "5728c37c",
   "metadata": {},
   "outputs": [],
   "source": [
    "with open('test_task_NLP.json') as f:\n",
    "    test_task_nlp = json.load(f)"
   ]
  },
  {
   "cell_type": "markdown",
   "id": "f0605024",
   "metadata": {},
   "source": [
    "Посмотрим на данные:"
   ]
  },
  {
   "cell_type": "code",
   "execution_count": 20,
   "id": "a109e3f9",
   "metadata": {},
   "outputs": [
    {
     "data": {
      "text/plain": [
       "[['Баклажаны с орехами упак',\n",
       "  'Баклажаны с творожной начинкой от бренд-шефа АВ'],\n",
       " ['Блинчики с курицей упак (4 шт)', 'Блинчики с мясом, Уже Готово , 140 г'],\n",
       " ['Блинчики с мясом упак (4 шт)',\n",
       "  'Блинчики с мясом, Уже Готово , 220 г, Россия'],\n",
       " ['Блины без начинки упак', 'Блины Русские от бренд-шефа АВ, Россия'],\n",
       " ['Винегрет упак',\n",
       "  'Салат FreshSecret Винегрет 600г',\n",
       "  'Винегрет с ароматным подсолнечным маслом, Уже Готово , 350 г']]"
      ]
     },
     "execution_count": 20,
     "metadata": {},
     "output_type": "execute_result"
    }
   ],
   "source": [
    "test_task_nlp[:5]"
   ]
  },
  {
   "cell_type": "markdown",
   "id": "f08a17aa",
   "metadata": {},
   "source": [
    "Объединим несколько списков в один:"
   ]
  },
  {
   "cell_type": "code",
   "execution_count": 25,
   "id": "4385af50",
   "metadata": {},
   "outputs": [
    {
     "data": {
      "text/plain": [
       "['Баклажаны с орехами упак',\n",
       " 'Баклажаны с творожной начинкой от бренд-шефа АВ',\n",
       " 'Блинчики с курицей упак (4 шт)',\n",
       " 'Блинчики с мясом, Уже Готово , 140 г',\n",
       " 'Блинчики с мясом упак (4 шт)',\n",
       " 'Блинчики с мясом, Уже Готово , 220 г, Россия',\n",
       " 'Блины без начинки упак',\n",
       " 'Блины Русские от бренд-шефа АВ, Россия',\n",
       " 'Винегрет упак',\n",
       " 'Салат FreshSecret Винегрет 600г',\n",
       " 'Винегрет с ароматным подсолнечным маслом, Уже Готово , 350 г',\n",
       " 'Голубцы мясные тушеные в томатно-сливочном соусе от бренд-шефа АВ',\n",
       " 'Голубцы мясные упак',\n",
       " 'Голубцы мясные упак',\n",
       " 'Запеканка творожная President Дольче ванильная 5,5% 350г']"
      ]
     },
     "execution_count": 25,
     "metadata": {},
     "output_type": "execute_result"
    }
   ],
   "source": [
    "test_list = list(itertools.chain(*test_task_nlp))\n",
    "test_list[:15]"
   ]
  },
  {
   "cell_type": "markdown",
   "id": "d5bda2d5",
   "metadata": {},
   "source": [
    "Данные не структурированы, кроме наименования товара указываются/не указываются: \n",
    "    - граммовка товара, \n",
    "    - фирма производитель в т.ч. на английском языке, \n",
    "    - страна производитель, и т.д.\n",
    "Для отделения различных признаков можно использовать регулярные выражения или находить по спискам (например, стран). В дальнейшем следует такие признаки фиксировать отдельно.\n",
    "На текущий момент необходимо произвести группировку идентичных названий, само наименование товара есть практически во всех наблюдениях, попробуем поработать с тем, что есть. \n",
    "Лемматизируем текст в записях, удалим стоп-слова. Словарь стоп-слов взять стандартный из библиотеки nltk, в дальнейшем можно дополнить его словами, которые не нужны для характеристики продукта.  "
   ]
  },
  {
   "cell_type": "code",
   "execution_count": 55,
   "id": "5efd472e",
   "metadata": {},
   "outputs": [],
   "source": [
    "def process_chunk(alltexts, stopwords):\n",
    "    \"\"\"Функция, которая лемматизирует текстовые записи\"\"\"\n",
    "    mystem = Mystem()\n",
    "    tagged = []\n",
    "    for i in alltexts:\n",
    "        processed = mystem.analyze(i)\n",
    "        doc = []\n",
    "        for w in processed:\n",
    "            try:\n",
    "                lemma = w[\"analysis\"][0][\"lex\"].lower().strip()\n",
    "                if lemma not in stopwords:\n",
    "                    doc.append(lemma)\n",
    "            except IndexError:\n",
    "                pass\n",
    "            except KeyError:\n",
    "                pass\n",
    "        tagged.append(','.join(doc))\n",
    "    return tagged\n",
    "\n",
    "def train_model(text_lemmas):\n",
    "    \"\"\"Функция, которая обучает новую модель на наборе данных\n",
    "    (можно подавать колонку df или список списков)\"\"\"\n",
    "    w2v_model = Word2Vec(\n",
    "        sentences=test_series, min_count=3, window=2, size=300,\n",
    "        negative=2, alpha=0.03, min_alpha=0.0007, sample=6e-5, sg=0)\n",
    "    w2v_model.wv.vocab\n",
    "    w2v_model.save(\"w2v_model.model\")\n",
    "    w2v_model.init_sims(replace=True)\n",
    "    return w2v_model\n",
    "\n",
    "def vectors_prepare(test_series):\n",
    "    \"\"\"Функция, которая собирает усредненный вектор записи\"\"\"\n",
    "    vectors = []\n",
    "    for i in range(test_series.shape[0]):\n",
    "        a = []\n",
    "        for word in test_series[i]:\n",
    "            k = 0\n",
    "            try:\n",
    "                words = w2v_model[word]\n",
    "                if k == 0:\n",
    "                    words = words*10\n",
    "                a.append(words)\n",
    "                k += 1\n",
    "            except KeyError:\n",
    "                continue\n",
    "            a_m = np.mean(np.asarray(a), axis=0)\n",
    "        vectors.append(a_m)\n",
    "    return vectors"
   ]
  },
  {
   "cell_type": "code",
   "execution_count": 546,
   "id": "53db7e4e",
   "metadata": {},
   "outputs": [
    {
     "data": {
      "text/plain": [
       "['баклажан,орех,упак',\n",
       " 'баклажан,творожный,начинка,бренд,шеф,ава',\n",
       " 'блинчик,курица,упак',\n",
       " 'блинчик,мясо,готовый,г',\n",
       " 'блинчик,мясо,упак',\n",
       " 'блинчик,мясо,готовый,г,россия',\n",
       " 'блин,начинка,упак',\n",
       " 'блин,русский,бренд,шеф,ава,россия',\n",
       " 'винегрет,упак',\n",
       " 'салат,винегрет']"
      ]
     },
     "execution_count": 546,
     "metadata": {},
     "output_type": "execute_result"
    }
   ],
   "source": [
    "stopwords = stopwords.words('russian')\n",
    "test_lemmas = process_chunk(test_list, stopwords)\n",
    "test_lemmas[:10]"
   ]
  },
  {
   "cell_type": "markdown",
   "id": "5e0c9664",
   "metadata": {},
   "source": [
    "Попробуем подход с векторизацией записей, подготовим записи для обучения модели и обучим ее: "
   ]
  },
  {
   "cell_type": "code",
   "execution_count": 547,
   "id": "1734a6d3",
   "metadata": {},
   "outputs": [
    {
     "data": {
      "text/plain": [
       "0                             [баклажан, орех, упак]\n",
       "1    [баклажан, творожный, начинка, бренд, шеф, ава]\n",
       "2                            [блинчик, курица, упак]\n",
       "3                        [блинчик, мясо, готовый, г]\n",
       "4                              [блинчик, мясо, упак]\n",
       "5                [блинчик, мясо, готовый, г, россия]\n",
       "6                              [блин, начинка, упак]\n",
       "7           [блин, русский, бренд, шеф, ава, россия]\n",
       "8                                   [винегрет, упак]\n",
       "9                                  [салат, винегрет]\n",
       "dtype: object"
      ]
     },
     "execution_count": 547,
     "metadata": {},
     "output_type": "execute_result"
    }
   ],
   "source": [
    "test_series = pd.Series(test_lemmas, copy=False)\n",
    "test_series = test_series.apply(lambda x: x.split(','))\n",
    "test_series[:10]"
   ]
  },
  {
   "cell_type": "code",
   "execution_count": 438,
   "id": "f2766767",
   "metadata": {},
   "outputs": [],
   "source": [
    "w2v_model = train_model(test_series)"
   ]
  },
  {
   "cell_type": "markdown",
   "id": "ff435506",
   "metadata": {},
   "source": [
    "Соберем вектора для всех записей в нашем семпле:"
   ]
  },
  {
   "cell_type": "code",
   "execution_count": 548,
   "id": "57f84764",
   "metadata": {
    "scrolled": false
   },
   "outputs": [
    {
     "name": "stderr",
     "output_type": "stream",
     "text": [
      "/var/folders/_z/bhy5vwy90pzd9s4jngc90jzr0000gn/T/ipykernel_17325/2644001596.py:8: DeprecationWarning: Call to deprecated `__getitem__` (Method will be removed in 4.0.0, use self.wv.__getitem__() instead).\n",
      "  words = w2v_model[word]\n"
     ]
    },
    {
     "name": "stdout",
     "output_type": "stream",
     "text": [
      "3580\n",
      "[-0.74499315  0.15046702 -0.14615141 -0.10263971 -0.15170725  0.18581225\n",
      "  0.47503135  0.654316    0.36707208 -0.17016466  0.7446231   0.356678\n",
      "  0.5112896   0.13357551  0.26814115 -0.2564294  -0.13026606  0.36192146\n",
      " -0.21789129 -0.32314447 -0.46575272  0.2111315  -0.5673366   0.41539788\n",
      "  0.17884143  0.33106676 -0.03463736  0.06345842  0.21435411  0.37155893\n",
      "  0.4480009   0.3809147   0.00966125 -0.2917034  -0.1224905   0.13146101\n",
      " -0.12357282  0.12979418 -0.18841623  0.8699309  -0.28218535  0.22862582\n",
      "  0.7972064  -0.6000631   0.03926015  0.4524695  -0.08382469  0.05143424\n",
      "  0.33220258 -0.04115749 -0.09667423  0.1153767  -0.05076553  0.5077662\n",
      " -0.53837293  0.10861465  0.22552235 -0.0310916   0.4534649   0.4699024\n",
      " -0.22342026  0.38045868 -0.38282514 -0.17141016 -0.04383326  0.2013154\n",
      "  0.4570582  -0.27799305  0.01535881 -0.1392944  -0.02563836  0.7331212\n",
      "  0.36090788 -0.26916793 -0.4601004  -0.22642928  0.5574162   0.14436175\n",
      " -0.08332416  0.02629192 -0.22135426 -0.21345675  0.05764174  0.18328492\n",
      " -0.41375437 -0.23637234 -0.27688166 -0.219822    0.26196814  0.5132968\n",
      " -0.18263102 -0.03318335 -0.01603619 -0.19009347 -0.08893359  0.05857118\n",
      "  0.09164813  0.5027849   0.20929718 -0.62993836 -0.4573799  -0.01146609\n",
      "  0.37874022  0.01687817 -0.11757559 -0.49968717 -0.20194322  0.4621705\n",
      " -0.16520889  0.43834805  0.11783745 -0.00966134  0.02279824  0.29599002\n",
      " -0.14791988 -0.17457004 -0.4149491   0.17136765 -0.11873557  0.308204\n",
      "  0.2547923   0.5110162   0.26447585  0.34128675  0.4335699  -0.10823514\n",
      " -0.5909461  -0.0055221  -0.30360964 -0.28667122 -0.07362881  0.2519299\n",
      " -0.18927705  0.38420567 -0.48369488  0.2998986   0.6435895   0.41442323\n",
      "  0.32301867 -0.5193657   0.27851155 -0.06521401  0.7310088  -0.33448383\n",
      " -0.36873648  0.32370332  0.30035987 -0.36731687  0.1353885   0.03189778\n",
      " -0.06238707 -0.10851607  0.10471231 -0.23607083  0.4575322  -0.08064271\n",
      "  0.28772748 -0.00960713  0.4345132  -0.24885726  0.00464861 -0.61284494\n",
      " -0.32323316 -0.18635374  0.63945794 -0.00994173 -0.2263605  -0.27524552\n",
      " -0.2499454   0.6175435  -0.75835705 -0.14260946  0.08384919 -0.22251447\n",
      "  0.10217867  0.05254908 -0.4800603   0.05580384 -0.36527196 -0.33021578\n",
      " -0.26666114  0.20966707  0.3061206   0.06491369 -0.28595686  0.03256313\n",
      " -0.10845669 -0.24571018 -0.5299213   0.12459058  0.20561518  0.42822483\n",
      " -0.5413813  -0.01267301  0.437359    0.32247338  0.0945351  -0.2659761\n",
      "  0.4974265   0.29671517 -0.3555301   0.10666537  0.53282577  0.5954054\n",
      " -0.3811284   0.03022716 -0.24122883 -0.63159215 -0.3627347   0.11587387\n",
      "  0.10197651 -0.10931226  0.68829876 -0.41339493  0.40226355  0.09246761\n",
      "  0.19306652  0.05359196  0.19021714 -0.00422734  0.06763998  0.21733965\n",
      "  0.66175824 -0.3480363   0.73961323 -0.03782051 -0.5262402   0.36247548\n",
      " -0.57235867 -0.15675722  0.18408053  0.11268384  0.3312712  -0.13368975\n",
      " -0.24580143  0.40613115 -0.3838059   0.18163459  0.41899064  0.5931925\n",
      "  0.1173979   0.27038777 -0.02619362  0.01759146  0.77283263  0.63808066\n",
      "  0.2492652  -0.39639568 -0.00325385 -0.07071229  0.11834446 -0.04853957\n",
      " -0.0094649  -0.42844632  0.6385192   0.03176087 -0.6742837   0.1351615\n",
      "  0.01682696  0.22425823 -0.01279746 -0.13106903  0.08031943  0.11938543\n",
      " -0.19816546  0.3121825   0.19685526  0.14180875  0.04916751  0.4688401\n",
      "  0.31271806  0.08149307 -0.04049237  0.5228462   0.11424889 -0.15640189\n",
      " -0.31549406  0.22592767  0.45991185 -0.34656444 -0.36311522 -0.1701684\n",
      "  0.38622534  0.23974542 -0.17766018  0.4176785   0.00170024 -0.09829611\n",
      " -0.38387465  0.65552706 -0.01823507 -0.70605713  0.009873    0.23804979\n",
      "  0.09135265 -0.02856676  0.47851267  0.5542425  -0.17764537 -0.32654035]\n"
     ]
    }
   ],
   "source": [
    "vectors = vectors_prepare(test_series)\n",
    "print(len(vectors))\n",
    "print(vectors[0])"
   ]
  },
  {
   "cell_type": "markdown",
   "id": "a8703302",
   "metadata": {},
   "source": [
    "Уменьшим размерность векторов для визуализации и попробуем подорать оптимальное количество для кластеризации."
   ]
  },
  {
   "cell_type": "code",
   "execution_count": 605,
   "id": "940490b5",
   "metadata": {},
   "outputs": [],
   "source": [
    "pca = PCA(n_components=2)\n",
    "PCA_result = pca.fit_transform(vectors)\n",
    "PCA_df = pd.DataFrame(PCA_result)"
   ]
  },
  {
   "cell_type": "code",
   "execution_count": 601,
   "id": "e0e921ad",
   "metadata": {},
   "outputs": [
    {
     "data": {
      "image/png": "[encoded data removed]",
      "text/plain": [
       "<Figure size 432x288 with 1 Axes>"
      ]
     },
     "metadata": {},
     "output_type": "display_data"
    }
   ],
   "source": [
    "SSE = [] \n",
    "for k in range(1,50):\n",
    "    estimator = KMeans(n_clusters = k)\n",
    "    estimator.fit(PCA_df)\n",
    "    SSE.append(estimator.inertia_)\n",
    "    \n",
    "X = range(1,50)\n",
    "plt.xlabel('k')\n",
    "plt.ylabel('SSE')\n",
    "plt.plot(X,SSE,'o-')\n",
    "plt.show()"
   ]
  },
  {
   "cell_type": "markdown",
   "id": "88de6064",
   "metadata": {},
   "source": [
    "Оптимальное количество кластеров 8-10, кластеризуем записи: "
   ]
  },
  {
   "cell_type": "code",
   "execution_count": 606,
   "id": "ab7d1fdb",
   "metadata": {},
   "outputs": [],
   "source": [
    "kmeans = KMeans(n_clusters= 9)\n",
    "label_pca = kmeans.fit_predict(PCA_result)"
   ]
  },
  {
   "cell_type": "code",
   "execution_count": 607,
   "id": "4486d7f1",
   "metadata": {},
   "outputs": [
    {
     "data": {
      "text/html": [
       "<div>\n",
       "<style scoped>\n",
       "    .dataframe tbody tr th:only-of-type {\n",
       "        vertical-align: middle;\n",
       "    }\n",
       "\n",
       "    .dataframe tbody tr th {\n",
       "        vertical-align: top;\n",
       "    }\n",
       "\n",
       "    .dataframe thead th {\n",
       "        text-align: right;\n",
       "    }\n",
       "</style>\n",
       "<table border=\"1\" class=\"dataframe\">\n",
       "  <thead>\n",
       "    <tr style=\"text-align: right;\">\n",
       "      <th></th>\n",
       "      <th>product</th>\n",
       "      <th>lemmas</th>\n",
       "      <th>cluster</th>\n",
       "      <th>x_values</th>\n",
       "      <th>y_values</th>\n",
       "    </tr>\n",
       "  </thead>\n",
       "  <tbody>\n",
       "    <tr>\n",
       "      <th>0</th>\n",
       "      <td>Баклажаны с орехами упак</td>\n",
       "      <td>[баклажан, орех, упак]</td>\n",
       "      <td>0</td>\n",
       "      <td>-0.916091</td>\n",
       "      <td>0.476804</td>\n",
       "    </tr>\n",
       "    <tr>\n",
       "      <th>1</th>\n",
       "      <td>Баклажаны с творожной начинкой от бренд-шефа АВ</td>\n",
       "      <td>[баклажан, творожный, начинка, бренд, шеф, ава]</td>\n",
       "      <td>8</td>\n",
       "      <td>-0.353554</td>\n",
       "      <td>0.225467</td>\n",
       "    </tr>\n",
       "    <tr>\n",
       "      <th>2</th>\n",
       "      <td>Блинчики с курицей упак (4 шт)</td>\n",
       "      <td>[блинчик, курица, упак]</td>\n",
       "      <td>8</td>\n",
       "      <td>-0.246853</td>\n",
       "      <td>0.410647</td>\n",
       "    </tr>\n",
       "    <tr>\n",
       "      <th>3</th>\n",
       "      <td>Блинчики с мясом, Уже Готово , 140 г</td>\n",
       "      <td>[блинчик, мясо, готовый, г]</td>\n",
       "      <td>8</td>\n",
       "      <td>0.130051</td>\n",
       "      <td>0.579191</td>\n",
       "    </tr>\n",
       "    <tr>\n",
       "      <th>4</th>\n",
       "      <td>Блинчики с мясом упак (4 шт)</td>\n",
       "      <td>[блинчик, мясо, упак]</td>\n",
       "      <td>8</td>\n",
       "      <td>-0.061841</td>\n",
       "      <td>0.905792</td>\n",
       "    </tr>\n",
       "    <tr>\n",
       "      <th>5</th>\n",
       "      <td>Блинчики с мясом, Уже Готово , 220 г, Россия</td>\n",
       "      <td>[блинчик, мясо, готовый, г, россия]</td>\n",
       "      <td>1</td>\n",
       "      <td>1.772588</td>\n",
       "      <td>-0.264474</td>\n",
       "    </tr>\n",
       "    <tr>\n",
       "      <th>6</th>\n",
       "      <td>Блины без начинки упак</td>\n",
       "      <td>[блин, начинка, упак]</td>\n",
       "      <td>8</td>\n",
       "      <td>-0.228745</td>\n",
       "      <td>0.713294</td>\n",
       "    </tr>\n",
       "    <tr>\n",
       "      <th>7</th>\n",
       "      <td>Блины Русские от бренд-шефа АВ, Россия</td>\n",
       "      <td>[блин, русский, бренд, шеф, ава, россия]</td>\n",
       "      <td>3</td>\n",
       "      <td>1.141628</td>\n",
       "      <td>-0.259705</td>\n",
       "    </tr>\n",
       "    <tr>\n",
       "      <th>8</th>\n",
       "      <td>Винегрет упак</td>\n",
       "      <td>[винегрет, упак]</td>\n",
       "      <td>8</td>\n",
       "      <td>-0.590796</td>\n",
       "      <td>0.861296</td>\n",
       "    </tr>\n",
       "    <tr>\n",
       "      <th>9</th>\n",
       "      <td>Салат FreshSecret Винегрет 600г</td>\n",
       "      <td>[салат, винегрет]</td>\n",
       "      <td>0</td>\n",
       "      <td>-0.836975</td>\n",
       "      <td>0.379128</td>\n",
       "    </tr>\n",
       "    <tr>\n",
       "      <th>10</th>\n",
       "      <td>Винегрет с ароматным подсолнечным маслом, Уже ...</td>\n",
       "      <td>[винегрет, ароматный, подсолнечный, масло, гот...</td>\n",
       "      <td>8</td>\n",
       "      <td>-0.517816</td>\n",
       "      <td>0.259609</td>\n",
       "    </tr>\n",
       "    <tr>\n",
       "      <th>11</th>\n",
       "      <td>Голубцы мясные тушеные в томатно-сливочном соу...</td>\n",
       "      <td>[голубец, мясной, тушеный, томатный, сливочный...</td>\n",
       "      <td>5</td>\n",
       "      <td>-0.414402</td>\n",
       "      <td>0.095487</td>\n",
       "    </tr>\n",
       "    <tr>\n",
       "      <th>12</th>\n",
       "      <td>Голубцы мясные упак</td>\n",
       "      <td>[голубец, мясной, упак]</td>\n",
       "      <td>8</td>\n",
       "      <td>-0.579848</td>\n",
       "      <td>0.544540</td>\n",
       "    </tr>\n",
       "    <tr>\n",
       "      <th>13</th>\n",
       "      <td>Голубцы мясные упак</td>\n",
       "      <td>[голубец, мясной, упак]</td>\n",
       "      <td>8</td>\n",
       "      <td>-0.579848</td>\n",
       "      <td>0.544540</td>\n",
       "    </tr>\n",
       "    <tr>\n",
       "      <th>14</th>\n",
       "      <td>Запеканка творожная President Дольче ванильная...</td>\n",
       "      <td>[запеканка, творожный, дольче, ванильный]</td>\n",
       "      <td>5</td>\n",
       "      <td>-0.302792</td>\n",
       "      <td>0.027282</td>\n",
       "    </tr>\n",
       "    <tr>\n",
       "      <th>15</th>\n",
       "      <td>Запеканка творожная упак</td>\n",
       "      <td>[запеканка, творожный, упак]</td>\n",
       "      <td>8</td>\n",
       "      <td>-0.380072</td>\n",
       "      <td>0.753834</td>\n",
       "    </tr>\n",
       "    <tr>\n",
       "      <th>16</th>\n",
       "      <td>Запеканка творожная с изюмом, Уже Готово , 300 г</td>\n",
       "      <td>[запеканка, творожный, изюм, готовый, г]</td>\n",
       "      <td>8</td>\n",
       "      <td>-0.161728</td>\n",
       "      <td>0.413641</td>\n",
       "    </tr>\n",
       "    <tr>\n",
       "      <th>17</th>\n",
       "      <td>Морковь по-корейски</td>\n",
       "      <td>[морковь, по-корейски]</td>\n",
       "      <td>5</td>\n",
       "      <td>-0.909276</td>\n",
       "      <td>-0.237128</td>\n",
       "    </tr>\n",
       "    <tr>\n",
       "      <th>18</th>\n",
       "      <td>Морковь по-корейски упак</td>\n",
       "      <td>[морковь, по-корейски, упак]</td>\n",
       "      <td>0</td>\n",
       "      <td>-0.727999</td>\n",
       "      <td>0.362978</td>\n",
       "    </tr>\n",
       "    <tr>\n",
       "      <th>19</th>\n",
       "      <td>Салат FreshSecret Морковь по-корейски, 250г</td>\n",
       "      <td>[салат, морковь, по-корейски]</td>\n",
       "      <td>0</td>\n",
       "      <td>-0.892118</td>\n",
       "      <td>0.041532</td>\n",
       "    </tr>\n",
       "    <tr>\n",
       "      <th>20</th>\n",
       "      <td>Морковь по-корейски, Уже Готово , 250 г</td>\n",
       "      <td>[морковь, по-корейски, готовый, г]</td>\n",
       "      <td>8</td>\n",
       "      <td>-0.369567</td>\n",
       "      <td>0.172080</td>\n",
       "    </tr>\n",
       "    <tr>\n",
       "      <th>21</th>\n",
       "      <td>Оладьи из кабачков упак</td>\n",
       "      <td>[оладья, кабачок, упак]</td>\n",
       "      <td>8</td>\n",
       "      <td>-0.232458</td>\n",
       "      <td>0.532469</td>\n",
       "    </tr>\n",
       "    <tr>\n",
       "      <th>22</th>\n",
       "      <td>Оладьи из кабачков, Уже Готово , 250 г</td>\n",
       "      <td>[оладья, кабачок, готовый, г]</td>\n",
       "      <td>8</td>\n",
       "      <td>0.002088</td>\n",
       "      <td>0.299199</td>\n",
       "    </tr>\n",
       "    <tr>\n",
       "      <th>23</th>\n",
       "      <td>Плов с мясом баранины упак</td>\n",
       "      <td>[плов, мясо, баранина, упак]</td>\n",
       "      <td>8</td>\n",
       "      <td>-0.041430</td>\n",
       "      <td>1.095480</td>\n",
       "    </tr>\n",
       "    <tr>\n",
       "      <th>24</th>\n",
       "      <td>Плов узбекский от бренд-шефа АВ</td>\n",
       "      <td>[плов, узбекский, бренд, шеф, ава]</td>\n",
       "      <td>8</td>\n",
       "      <td>-0.028527</td>\n",
       "      <td>0.247409</td>\n",
       "    </tr>\n",
       "    <tr>\n",
       "      <th>25</th>\n",
       "      <td>Салат Коул Слоу упак</td>\n",
       "      <td>[салат, коул, слоу, упак]</td>\n",
       "      <td>8</td>\n",
       "      <td>-0.611624</td>\n",
       "      <td>1.081020</td>\n",
       "    </tr>\n",
       "    <tr>\n",
       "      <th>26</th>\n",
       "      <td>Салат Коул-Слоу постный, Уже Готово , 200 г</td>\n",
       "      <td>[салат, коул, слоу, постный, готовый, г]</td>\n",
       "      <td>8</td>\n",
       "      <td>-0.172507</td>\n",
       "      <td>0.587143</td>\n",
       "    </tr>\n",
       "    <tr>\n",
       "      <th>27</th>\n",
       "      <td>Салат Мимоза с горбушей</td>\n",
       "      <td>[салат, мимоза, горбуша]</td>\n",
       "      <td>8</td>\n",
       "      <td>-0.548840</td>\n",
       "      <td>0.426454</td>\n",
       "    </tr>\n",
       "    <tr>\n",
       "      <th>28</th>\n",
       "      <td>Салат Мимоза по-домашнему упак</td>\n",
       "      <td>[салат, мимоза, по-домашнему, упак]</td>\n",
       "      <td>0</td>\n",
       "      <td>-0.685639</td>\n",
       "      <td>0.818317</td>\n",
       "    </tr>\n",
       "    <tr>\n",
       "      <th>29</th>\n",
       "      <td>Салат СлавянСалат премиум Мимоза, 320г</td>\n",
       "      <td>[салат, славянсалат, премиум, мимоза]</td>\n",
       "      <td>0</td>\n",
       "      <td>-0.691041</td>\n",
       "      <td>0.280021</td>\n",
       "    </tr>\n",
       "  </tbody>\n",
       "</table>\n",
       "</div>"
      ],
      "text/plain": [
       "                                              product  \\\n",
       "0                            Баклажаны с орехами упак   \n",
       "1     Баклажаны с творожной начинкой от бренд-шефа АВ   \n",
       "2                      Блинчики с курицей упак (4 шт)   \n",
       "3                Блинчики с мясом, Уже Готово , 140 г   \n",
       "4                        Блинчики с мясом упак (4 шт)   \n",
       "5        Блинчики с мясом, Уже Готово , 220 г, Россия   \n",
       "6                              Блины без начинки упак   \n",
       "7              Блины Русские от бренд-шефа АВ, Россия   \n",
       "8                                       Винегрет упак   \n",
       "9                     Салат FreshSecret Винегрет 600г   \n",
       "10  Винегрет с ароматным подсолнечным маслом, Уже ...   \n",
       "11  Голубцы мясные тушеные в томатно-сливочном соу...   \n",
       "12                                Голубцы мясные упак   \n",
       "13                                Голубцы мясные упак   \n",
       "14  Запеканка творожная President Дольче ванильная...   \n",
       "15                           Запеканка творожная упак   \n",
       "16   Запеканка творожная с изюмом, Уже Готово , 300 г   \n",
       "17                                Морковь по-корейски   \n",
       "18                           Морковь по-корейски упак   \n",
       "19        Салат FreshSecret Морковь по-корейски, 250г   \n",
       "20            Морковь по-корейски, Уже Готово , 250 г   \n",
       "21                            Оладьи из кабачков упак   \n",
       "22             Оладьи из кабачков, Уже Готово , 250 г   \n",
       "23                         Плов с мясом баранины упак   \n",
       "24                    Плов узбекский от бренд-шефа АВ   \n",
       "25                               Салат Коул Слоу упак   \n",
       "26        Салат Коул-Слоу постный, Уже Готово , 200 г   \n",
       "27                            Салат Мимоза с горбушей   \n",
       "28                     Салат Мимоза по-домашнему упак   \n",
       "29             Салат СлавянСалат премиум Мимоза, 320г   \n",
       "\n",
       "                                               lemmas  cluster  x_values  \\\n",
       "0                              [баклажан, орех, упак]        0 -0.916091   \n",
       "1     [баклажан, творожный, начинка, бренд, шеф, ава]        8 -0.353554   \n",
       "2                             [блинчик, курица, упак]        8 -0.246853   \n",
       "3                         [блинчик, мясо, готовый, г]        8  0.130051   \n",
       "4                               [блинчик, мясо, упак]        8 -0.061841   \n",
       "5                 [блинчик, мясо, готовый, г, россия]        1  1.772588   \n",
       "6                               [блин, начинка, упак]        8 -0.228745   \n",
       "7            [блин, русский, бренд, шеф, ава, россия]        3  1.141628   \n",
       "8                                    [винегрет, упак]        8 -0.590796   \n",
       "9                                   [салат, винегрет]        0 -0.836975   \n",
       "10  [винегрет, ароматный, подсолнечный, масло, гот...        8 -0.517816   \n",
       "11  [голубец, мясной, тушеный, томатный, сливочный...        5 -0.414402   \n",
       "12                            [голубец, мясной, упак]        8 -0.579848   \n",
       "13                            [голубец, мясной, упак]        8 -0.579848   \n",
       "14          [запеканка, творожный, дольче, ванильный]        5 -0.302792   \n",
       "15                       [запеканка, творожный, упак]        8 -0.380072   \n",
       "16           [запеканка, творожный, изюм, готовый, г]        8 -0.161728   \n",
       "17                             [морковь, по-корейски]        5 -0.909276   \n",
       "18                       [морковь, по-корейски, упак]        0 -0.727999   \n",
       "19                      [салат, морковь, по-корейски]        0 -0.892118   \n",
       "20                 [морковь, по-корейски, готовый, г]        8 -0.369567   \n",
       "21                            [оладья, кабачок, упак]        8 -0.232458   \n",
       "22                      [оладья, кабачок, готовый, г]        8  0.002088   \n",
       "23                       [плов, мясо, баранина, упак]        8 -0.041430   \n",
       "24                 [плов, узбекский, бренд, шеф, ава]        8 -0.028527   \n",
       "25                          [салат, коул, слоу, упак]        8 -0.611624   \n",
       "26           [салат, коул, слоу, постный, готовый, г]        8 -0.172507   \n",
       "27                           [салат, мимоза, горбуша]        8 -0.548840   \n",
       "28                [салат, мимоза, по-домашнему, упак]        0 -0.685639   \n",
       "29              [салат, славянсалат, премиум, мимоза]        0 -0.691041   \n",
       "\n",
       "    y_values  \n",
       "0   0.476804  \n",
       "1   0.225467  \n",
       "2   0.410647  \n",
       "3   0.579191  \n",
       "4   0.905792  \n",
       "5  -0.264474  \n",
       "6   0.713294  \n",
       "7  -0.259705  \n",
       "8   0.861296  \n",
       "9   0.379128  \n",
       "10  0.259609  \n",
       "11  0.095487  \n",
       "12  0.544540  \n",
       "13  0.544540  \n",
       "14  0.027282  \n",
       "15  0.753834  \n",
       "16  0.413641  \n",
       "17 -0.237128  \n",
       "18  0.362978  \n",
       "19  0.041532  \n",
       "20  0.172080  \n",
       "21  0.532469  \n",
       "22  0.299199  \n",
       "23  1.095480  \n",
       "24  0.247409  \n",
       "25  1.081020  \n",
       "26  0.587143  \n",
       "27  0.426454  \n",
       "28  0.818317  \n",
       "29  0.280021  "
      ]
     },
     "execution_count": 607,
     "metadata": {},
     "output_type": "execute_result"
    }
   ],
   "source": [
    "sample_series = pd.Series(test_list, copy=False)\n",
    "PCA_result = pd.DataFrame(PCA_result)\n",
    "PCA_result['x_values'] =PCA_result.iloc[0:, 0]\n",
    "PCA_result['y_values'] =PCA_result.iloc[0:, 1]\n",
    "PCA_result['lemmas'] = test_series\n",
    "PCA_result['product'] = sample_series\n",
    "PCA_result['cluster'] = list(label_pca)\n",
    "PCA_result = PCA_result[['product', 'lemmas', 'cluster', 'x_values', 'y_values']]\n",
    "PCA_result.head(30)"
   ]
  },
  {
   "cell_type": "code",
   "execution_count": 610,
   "id": "5f373fdb",
   "metadata": {},
   "outputs": [
    {
     "data": {
      "image/png": "[encoded data removed]",
      "text/plain": [
       "<Figure size 576x432 with 1 Axes>"
      ]
     },
     "metadata": {},
     "output_type": "display_data"
    }
   ],
   "source": [
    "sns.set_style('ticks')\n",
    "fig = sns.lmplot(x='x_values', y='y_values',\n",
    "           data = PCA_result,\n",
    "           fit_reg=False,\n",
    "           legend=True,\n",
    "           hue='cluster')\n",
    "fig = plt.gcf()\n",
    "fig.set_size_inches(8, 6)\n",
    "plt.show()"
   ]
  },
  {
   "cell_type": "code",
   "execution_count": 611,
   "id": "2fa2e2c0",
   "metadata": {},
   "outputs": [],
   "source": [
    "PCA_result.to_csv('PCA_result.csv')"
   ]
  },
  {
   "cell_type": "code",
   "execution_count": 612,
   "id": "f6f82126",
   "metadata": {},
   "outputs": [
    {
     "data": {
      "text/html": [
       "<div>\n",
       "<style scoped>\n",
       "    .dataframe tbody tr th:only-of-type {\n",
       "        vertical-align: middle;\n",
       "    }\n",
       "\n",
       "    .dataframe tbody tr th {\n",
       "        vertical-align: top;\n",
       "    }\n",
       "\n",
       "    .dataframe thead th {\n",
       "        text-align: right;\n",
       "    }\n",
       "</style>\n",
       "<table border=\"1\" class=\"dataframe\">\n",
       "  <thead>\n",
       "    <tr style=\"text-align: right;\">\n",
       "      <th></th>\n",
       "      <th>product</th>\n",
       "      <th>lemmas</th>\n",
       "      <th>cluster</th>\n",
       "      <th>x_values</th>\n",
       "      <th>y_values</th>\n",
       "    </tr>\n",
       "  </thead>\n",
       "  <tbody>\n",
       "    <tr>\n",
       "      <th>2310</th>\n",
       "      <td>Кисломолочный напиток Актимель ежевично-чернич...</td>\n",
       "      <td>[кисломолочный, напиток, актимель, ежевичный, ...</td>\n",
       "      <td>5</td>\n",
       "      <td>-1.010585</td>\n",
       "      <td>-0.075989</td>\n",
       "    </tr>\n",
       "  </tbody>\n",
       "</table>\n",
       "</div>"
      ],
      "text/plain": [
       "                                                product  \\\n",
       "2310  Кисломолочный напиток Актимель ежевично-чернич...   \n",
       "\n",
       "                                                 lemmas  cluster  x_values  \\\n",
       "2310  [кисломолочный, напиток, актимель, ежевичный, ...        5 -1.010585   \n",
       "\n",
       "      y_values  \n",
       "2310 -0.075989  "
      ]
     },
     "execution_count": 612,
     "metadata": {},
     "output_type": "execute_result"
    }
   ],
   "source": [
    "PCA_result[PCA_result['product'] == 'Кисломолочный напиток Актимель ежевично-черничный 100 г']"
   ]
  },
  {
   "cell_type": "code",
   "execution_count": 613,
   "id": "d3049aab",
   "metadata": {},
   "outputs": [
    {
     "data": {
      "text/html": [
       "<div>\n",
       "<style scoped>\n",
       "    .dataframe tbody tr th:only-of-type {\n",
       "        vertical-align: middle;\n",
       "    }\n",
       "\n",
       "    .dataframe tbody tr th {\n",
       "        vertical-align: top;\n",
       "    }\n",
       "\n",
       "    .dataframe thead th {\n",
       "        text-align: right;\n",
       "    }\n",
       "</style>\n",
       "<table border=\"1\" class=\"dataframe\">\n",
       "  <thead>\n",
       "    <tr style=\"text-align: right;\">\n",
       "      <th></th>\n",
       "      <th>product</th>\n",
       "      <th>lemmas</th>\n",
       "      <th>cluster</th>\n",
       "      <th>x_values</th>\n",
       "      <th>y_values</th>\n",
       "    </tr>\n",
       "  </thead>\n",
       "  <tbody>\n",
       "    <tr>\n",
       "      <th>2311</th>\n",
       "      <td>Напиток Данон Актимель черника/ежевика 2,5% 6*...</td>\n",
       "      <td>[напиток, данон, актимель, черника, ежевика, р...</td>\n",
       "      <td>3</td>\n",
       "      <td>0.472584</td>\n",
       "      <td>-1.209804</td>\n",
       "    </tr>\n",
       "  </tbody>\n",
       "</table>\n",
       "</div>"
      ],
      "text/plain": [
       "                                                product  \\\n",
       "2311  Напиток Данон Актимель черника/ежевика 2,5% 6*...   \n",
       "\n",
       "                                                 lemmas  cluster  x_values  \\\n",
       "2311  [напиток, данон, актимель, черника, ежевика, р...        3  0.472584   \n",
       "\n",
       "      y_values  \n",
       "2311 -1.209804  "
      ]
     },
     "execution_count": 613,
     "metadata": {},
     "output_type": "execute_result"
    }
   ],
   "source": [
    "PCA_result[PCA_result['product'] == 'Напиток Данон Актимель черника/ежевика 2,5% 6*0,1л Россия']"
   ]
  },
  {
   "cell_type": "code",
   "execution_count": 614,
   "id": "5d763e12",
   "metadata": {},
   "outputs": [
    {
     "data": {
      "text/html": [
       "<div>\n",
       "<style scoped>\n",
       "    .dataframe tbody tr th:only-of-type {\n",
       "        vertical-align: middle;\n",
       "    }\n",
       "\n",
       "    .dataframe tbody tr th {\n",
       "        vertical-align: top;\n",
       "    }\n",
       "\n",
       "    .dataframe thead th {\n",
       "        text-align: right;\n",
       "    }\n",
       "</style>\n",
       "<table border=\"1\" class=\"dataframe\">\n",
       "  <thead>\n",
       "    <tr style=\"text-align: right;\">\n",
       "      <th></th>\n",
       "      <th>product</th>\n",
       "      <th>lemmas</th>\n",
       "      <th>cluster</th>\n",
       "      <th>x_values</th>\n",
       "      <th>y_values</th>\n",
       "    </tr>\n",
       "  </thead>\n",
       "  <tbody>\n",
       "    <tr>\n",
       "      <th>120</th>\n",
       "      <td>Гель для душа Роскошная мягкость Черная орхиде...</td>\n",
       "      <td>[гель, душа, роскошный, мягкость, черный, орхи...</td>\n",
       "      <td>0</td>\n",
       "      <td>-0.765834</td>\n",
       "      <td>0.241768</td>\n",
       "    </tr>\n",
       "  </tbody>\n",
       "</table>\n",
       "</div>"
      ],
      "text/plain": [
       "                                               product  \\\n",
       "120  Гель для душа Роскошная мягкость Черная орхиде...   \n",
       "\n",
       "                                                lemmas  cluster  x_values  \\\n",
       "120  [гель, душа, роскошный, мягкость, черный, орхи...        0 -0.765834   \n",
       "\n",
       "     y_values  \n",
       "120  0.241768  "
      ]
     },
     "execution_count": 614,
     "metadata": {},
     "output_type": "execute_result"
    }
   ],
   "source": [
    "PCA_result[PCA_result['product'] ==  \"Гель для душа Роскошная мягкость Черная орхидея Palmolive, 250 мл\"]"
   ]
  },
  {
   "cell_type": "code",
   "execution_count": 615,
   "id": "2f5ee500",
   "metadata": {},
   "outputs": [
    {
     "data": {
      "text/html": [
       "<div>\n",
       "<style scoped>\n",
       "    .dataframe tbody tr th:only-of-type {\n",
       "        vertical-align: middle;\n",
       "    }\n",
       "\n",
       "    .dataframe tbody tr th {\n",
       "        vertical-align: top;\n",
       "    }\n",
       "\n",
       "    .dataframe thead th {\n",
       "        text-align: right;\n",
       "    }\n",
       "</style>\n",
       "<table border=\"1\" class=\"dataframe\">\n",
       "  <thead>\n",
       "    <tr style=\"text-align: right;\">\n",
       "      <th></th>\n",
       "      <th>product</th>\n",
       "      <th>lemmas</th>\n",
       "      <th>cluster</th>\n",
       "      <th>x_values</th>\n",
       "      <th>y_values</th>\n",
       "    </tr>\n",
       "  </thead>\n",
       "  <tbody>\n",
       "    <tr>\n",
       "      <th>123</th>\n",
       "      <td>Гель для душа Palmolive \"Черная орхидея\" 250 мл</td>\n",
       "      <td>[гель, душа, черный, орхидея, мл]</td>\n",
       "      <td>0</td>\n",
       "      <td>-0.980105</td>\n",
       "      <td>0.338143</td>\n",
       "    </tr>\n",
       "  </tbody>\n",
       "</table>\n",
       "</div>"
      ],
      "text/plain": [
       "                                             product  \\\n",
       "123  Гель для душа Palmolive \"Черная орхидея\" 250 мл   \n",
       "\n",
       "                                lemmas  cluster  x_values  y_values  \n",
       "123  [гель, душа, черный, орхидея, мл]        0 -0.980105  0.338143  "
      ]
     },
     "execution_count": 615,
     "metadata": {},
     "output_type": "execute_result"
    }
   ],
   "source": [
    "PCA_result[PCA_result['product'] ==  'Гель для душа Palmolive \"Черная орхидея\" 250 мл']"
   ]
  },
  {
   "cell_type": "code",
   "execution_count": 616,
   "id": "958e93fb",
   "metadata": {},
   "outputs": [
    {
     "data": {
      "text/html": [
       "<div>\n",
       "<style scoped>\n",
       "    .dataframe tbody tr th:only-of-type {\n",
       "        vertical-align: middle;\n",
       "    }\n",
       "\n",
       "    .dataframe tbody tr th {\n",
       "        vertical-align: top;\n",
       "    }\n",
       "\n",
       "    .dataframe thead th {\n",
       "        text-align: right;\n",
       "    }\n",
       "</style>\n",
       "<table border=\"1\" class=\"dataframe\">\n",
       "  <thead>\n",
       "    <tr style=\"text-align: right;\">\n",
       "      <th></th>\n",
       "      <th>product</th>\n",
       "      <th>lemmas</th>\n",
       "      <th>cluster</th>\n",
       "      <th>x_values</th>\n",
       "      <th>y_values</th>\n",
       "    </tr>\n",
       "  </thead>\n",
       "  <tbody>\n",
       "    <tr>\n",
       "      <th>288</th>\n",
       "      <td>Корм Whiskas говядина/кролик канапе новогодний...</td>\n",
       "      <td>[корм, говядина, кролик, канапе, новогодний, р...</td>\n",
       "      <td>3</td>\n",
       "      <td>1.26114</td>\n",
       "      <td>-0.841425</td>\n",
       "    </tr>\n",
       "  </tbody>\n",
       "</table>\n",
       "</div>"
      ],
      "text/plain": [
       "                                               product  \\\n",
       "288  Корм Whiskas говядина/кролик канапе новогодний...   \n",
       "\n",
       "                                                lemmas  cluster  x_values  \\\n",
       "288  [корм, говядина, кролик, канапе, новогодний, р...        3   1.26114   \n",
       "\n",
       "     y_values  \n",
       "288 -0.841425  "
      ]
     },
     "execution_count": 616,
     "metadata": {},
     "output_type": "execute_result"
    }
   ],
   "source": [
    "PCA_result[PCA_result['product'] ==  'Корм Whiskas говядина/кролик канапе новогодний 85г Россия']"
   ]
  },
  {
   "cell_type": "markdown",
   "id": "b25a262a",
   "metadata": {},
   "source": [
    "Итого: \n",
    "    - исходные данные нуждаются в дополнительной очистки от ненужных атрибутов для описание наименования продукта, \n",
    "    - дополнить словарь стоп-слов не характерными словами для описания наименования продукта."
   ]
  },
  {
   "cell_type": "code",
   "execution_count": null,
   "id": "017b22ce",
   "metadata": {},
   "outputs": [],
   "source": []
  }
 ],
 "metadata": {
  "kernelspec": {
   "display_name": "Python 3 (ipykernel)",
   "language": "python",
   "name": "python3"
  },
  "language_info": {
   "codemirror_mode": {
    "name": "ipython",
    "version": 3
   },
   "file_extension": ".py",
   "mimetype": "text/x-python",
   "name": "python",
   "nbconvert_exporter": "python",
   "pygments_lexer": "ipython3",
   "version": "3.9.7"
  }
 },
 "nbformat": 4,
 "nbformat_minor": 5
}
