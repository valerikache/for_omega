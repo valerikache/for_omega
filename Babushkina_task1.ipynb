{
 "cells": [
  {
   "cell_type": "code",
   "execution_count": 141,
   "id": "7474c0c9",
   "metadata": {},
   "outputs": [],
   "source": [
    "#!pip install https://github.com/ydataai/pandas-profiling/archive/master.zip\n",
    "#!pip install yellowbrick\n",
    "#!pip3 install scikit-learn \n",
    "import pandas as pd\n",
    "import numpy  as np\n",
    "from pandas_profiling import ProfileReport\n",
    "from sklearn.linear_model import LinearRegression\n",
    "from sklearn.model_selection import train_test_split\n",
    "from sklearn.ensemble import RandomForestRegressor\n",
    "from sklearn.preprocessing import StandardScaler\n",
    "from sklearn.feature_selection import RFE\n",
    "from yellowbrick.regressor import CooksDistance\n",
    "from yellowbrick.regressor import ResidualsPlot\n",
    "import statsmodels.formula.api as smf\n",
    "import warnings\n",
    "warnings.filterwarnings(\"ignore\")"
   ]
  },
  {
   "cell_type": "markdown",
   "id": "26bcf701",
   "metadata": {},
   "source": [
    "Загрузим данные и добавим колонки:"
   ]
  },
  {
   "cell_type": "code",
   "execution_count": 144,
   "id": "1155f634",
   "metadata": {},
   "outputs": [],
   "source": [
    "df = pd.read_csv('task1.txt', sep='\\t')\n",
    "df.columns = [f'x_{column}' for column in range(1, 11)] + ['y']"
   ]
  },
  {
   "cell_type": "markdown",
   "id": "51e98f60",
   "metadata": {},
   "source": [
    "Посмотрим описательную статистику и наличие пропусков в данных, проведем разведочных анализ данных:"
   ]
  },
  {
   "cell_type": "code",
   "execution_count": 147,
   "id": "f79b0dd5",
   "metadata": {
    "scrolled": true
   },
   "outputs": [],
   "source": [
    "profile = ProfileReport(df, title=\"Pandas Profiling Report\")"
   ]
  },
  {
   "cell_type": "code",
   "execution_count": 148,
   "id": "a0aa0778",
   "metadata": {},
   "outputs": [
    {
     "data": {
      "application/vnd.jupyter.widget-view+json": {
       "model_id": "26ecdec307e44392add36841954e82ed",
       "version_major": 2,
       "version_minor": 0
      },
      "text/plain": [
       "Generate report structure:   0%|          | 0/1 [00:00<?, ?it/s]"
      ]
     },
     "metadata": {},
     "output_type": "display_data"
    },
    {
     "data": {
      "application/vnd.jupyter.widget-view+json": {
       "model_id": "",
       "version_major": 2,
       "version_minor": 0
      },
      "text/plain": [
       "Render widgets:   0%|          | 0/1 [00:00<?, ?it/s]"
      ]
     },
     "metadata": {},
     "output_type": "display_data"
    },
    {
     "data": {
      "application/vnd.jupyter.widget-view+json": {
       "model_id": "a1cf7f10ae084ec88f9adb355b46c932",
       "version_major": 2,
       "version_minor": 0
      },
      "text/plain": [
       "VBox(children=(Tab(children=(Tab(children=(GridBox(children=(VBox(children=(GridspecLayout(children=(HTML(valu…"
      ]
     },
     "metadata": {},
     "output_type": "display_data"
    }
   ],
   "source": [
    "profile.to_widgets()"
   ]
  },
  {
   "cell_type": "code",
   "execution_count": 149,
   "id": "23a39c46",
   "metadata": {},
   "outputs": [
    {
     "data": {
      "application/vnd.jupyter.widget-view+json": {
       "model_id": "8ef5e9eaf6004015b9eefbf70f1e7f72",
       "version_major": 2,
       "version_minor": 0
      },
      "text/plain": [
       "Render HTML:   0%|          | 0/1 [00:00<?, ?it/s]"
      ]
     },
     "metadata": {},
     "output_type": "display_data"
    },
    {
     "data": {
      "application/vnd.jupyter.widget-view+json": {
       "model_id": "e799ddbab18543409dcd7ae8ee75a3b1",
       "version_major": 2,
       "version_minor": 0
      },
      "text/plain": [
       "Export report to file:   0%|          | 0/1 [00:00<?, ?it/s]"
      ]
     },
     "metadata": {},
     "output_type": "display_data"
    }
   ],
   "source": [
    "profile.to_file(\"report.html\")"
   ]
  },
  {
   "cell_type": "markdown",
   "id": "8bca1b54",
   "metadata": {},
   "source": [
    "- Пропущенных значений нет,\n",
    "- дублирующий строк нет,\n",
    "- у Х-значений равномерное распределение от 0 до 1,\n",
    "- Y-значение нормальное распределение значений от 3 до 29, \n",
    "- Х признаки не зависимы друг от друга и не коррелируют между собой, \n",
    "- наблюдается похожая на линейную зависимость целевой переменной от x_1, х_2, х_4 и х_5, \n",
    "- наблюдается похожая на квадратичную зависимость целевой переменной от х_3\n",
    "\n",
    "Построим линейную модель регрессии и оценим производительность с помощью R-squared"
   ]
  },
  {
   "cell_type": "code",
   "execution_count": 110,
   "id": "4a350f51",
   "metadata": {},
   "outputs": [
    {
     "data": {
      "text/plain": [
       "0.7397452894984753"
      ]
     },
     "execution_count": 110,
     "metadata": {},
     "output_type": "execute_result"
    }
   ],
   "source": [
    "X = df.drop(['y'],axis=1)\n",
    "y = df['y']\n",
    "model = LinearRegression()\n",
    "model.fit(X, y)\n",
    "model.score(X, y)"
   ]
  },
  {
   "cell_type": "markdown",
   "id": "8acca2ea",
   "metadata": {},
   "source": [
    "Построим нелинейную модель с помощью RandomForestRegressor, и оценим производительность на исходным данных с помощью R-squared."
   ]
  },
  {
   "cell_type": "code",
   "execution_count": 115,
   "id": "a1d757a3",
   "metadata": {},
   "outputs": [
    {
     "data": {
      "text/plain": [
       "0.8424226020919559"
      ]
     },
     "execution_count": 115,
     "metadata": {},
     "output_type": "execute_result"
    }
   ],
   "source": [
    "X_train, X_test, y_train, y_test = train_test_split(X, y,random_state=0)\n",
    "\n",
    "X_train_std = StandardScaler().fit_transform(X_train)\n",
    "X_test_std = StandardScaler().fit_transform(X_test)\n",
    "\n",
    "y_train = y_train.values.reshape(-1, 1)\n",
    "y_test = y_test.values.reshape(-1, 1)\n",
    "\n",
    "forest = RandomForestRegressor()\n",
    "_ = forest.fit(X_train_std, y_train)\n",
    "forest.score(X_test_std, y_test)"
   ]
  },
  {
   "cell_type": "markdown",
   "id": "7e8304ba",
   "metadata": {},
   "source": [
    "Модель объясняет 84.2% вариации целевой переменной. Попробуем улучшить результат, для начала, посмотрим на веса наших признаков:"
   ]
  },
  {
   "cell_type": "code",
   "execution_count": 31,
   "id": "77a297df",
   "metadata": {},
   "outputs": [
    {
     "data": {
      "text/html": [
       "<div>\n",
       "<style scoped>\n",
       "    .dataframe tbody tr th:only-of-type {\n",
       "        vertical-align: middle;\n",
       "    }\n",
       "\n",
       "    .dataframe tbody tr th {\n",
       "        vertical-align: top;\n",
       "    }\n",
       "\n",
       "    .dataframe thead th {\n",
       "        text-align: right;\n",
       "    }\n",
       "</style>\n",
       "<table border=\"1\" class=\"dataframe\">\n",
       "  <thead>\n",
       "    <tr style=\"text-align: right;\">\n",
       "      <th></th>\n",
       "      <th>feature</th>\n",
       "      <th>weight</th>\n",
       "    </tr>\n",
       "  </thead>\n",
       "  <tbody>\n",
       "    <tr>\n",
       "      <th>0</th>\n",
       "      <td>x_7</td>\n",
       "      <td>0.009986</td>\n",
       "    </tr>\n",
       "    <tr>\n",
       "      <th>1</th>\n",
       "      <td>x_8</td>\n",
       "      <td>0.010508</td>\n",
       "    </tr>\n",
       "    <tr>\n",
       "      <th>2</th>\n",
       "      <td>x_6</td>\n",
       "      <td>0.010906</td>\n",
       "    </tr>\n",
       "    <tr>\n",
       "      <th>3</th>\n",
       "      <td>x_9</td>\n",
       "      <td>0.011062</td>\n",
       "    </tr>\n",
       "    <tr>\n",
       "      <th>4</th>\n",
       "      <td>x_10</td>\n",
       "      <td>0.011222</td>\n",
       "    </tr>\n",
       "    <tr>\n",
       "      <th>5</th>\n",
       "      <td>x_3</td>\n",
       "      <td>0.045794</td>\n",
       "    </tr>\n",
       "    <tr>\n",
       "      <th>6</th>\n",
       "      <td>x_5</td>\n",
       "      <td>0.079444</td>\n",
       "    </tr>\n",
       "    <tr>\n",
       "      <th>7</th>\n",
       "      <td>x_2</td>\n",
       "      <td>0.209218</td>\n",
       "    </tr>\n",
       "    <tr>\n",
       "      <th>8</th>\n",
       "      <td>x_1</td>\n",
       "      <td>0.252837</td>\n",
       "    </tr>\n",
       "    <tr>\n",
       "      <th>9</th>\n",
       "      <td>x_4</td>\n",
       "      <td>0.359024</td>\n",
       "    </tr>\n",
       "  </tbody>\n",
       "</table>\n",
       "</div>"
      ],
      "text/plain": [
       "  feature    weight\n",
       "0     x_7  0.009986\n",
       "1     x_8  0.010508\n",
       "2     x_6  0.010906\n",
       "3     x_9  0.011062\n",
       "4    x_10  0.011222\n",
       "5     x_3  0.045794\n",
       "6     x_5  0.079444\n",
       "7     x_2  0.209218\n",
       "8     x_1  0.252837\n",
       "9     x_4  0.359024"
      ]
     },
     "execution_count": 31,
     "metadata": {},
     "output_type": "execute_result"
    }
   ],
   "source": [
    "pd.DataFrame(\n",
    "    zip(X_train.columns, abs(forest.feature_importances_)),\n",
    "    columns=[\"feature\", \"weight\"],).sort_values(\"weight\").reset_index(drop=True)"
   ]
  },
  {
   "cell_type": "markdown",
   "id": "72960c14",
   "metadata": {},
   "source": [
    "По результатам расчета, видим то же, что мы наблюдали на графиках зависимости и по коэффициентам корреляции : самые важные признаки x_1, x_2, x_3, x_4, x_5. Воспользуемся алгоритмом RFE для удаления незначимых переменных, укажем, что хотим оставить 5 признаков, и после снова оценим производительность модели. "
   ]
  },
  {
   "cell_type": "code",
   "execution_count": 32,
   "id": "348d04c8",
   "metadata": {},
   "outputs": [],
   "source": [
    "rfe = RFE(estimator=RandomForestRegressor(), n_features_to_select=5)\n",
    "_ = rfe.fit(X_train_std, y_train)"
   ]
  },
  {
   "cell_type": "code",
   "execution_count": 33,
   "id": "1ec5010a",
   "metadata": {},
   "outputs": [
    {
     "data": {
      "text/html": [
       "<div>\n",
       "<style scoped>\n",
       "    .dataframe tbody tr th:only-of-type {\n",
       "        vertical-align: middle;\n",
       "    }\n",
       "\n",
       "    .dataframe tbody tr th {\n",
       "        vertical-align: top;\n",
       "    }\n",
       "\n",
       "    .dataframe thead th {\n",
       "        text-align: right;\n",
       "    }\n",
       "</style>\n",
       "<table border=\"1\" class=\"dataframe\">\n",
       "  <thead>\n",
       "    <tr style=\"text-align: right;\">\n",
       "      <th></th>\n",
       "      <th>x_1</th>\n",
       "      <th>x_2</th>\n",
       "      <th>x_3</th>\n",
       "      <th>x_4</th>\n",
       "      <th>x_5</th>\n",
       "    </tr>\n",
       "  </thead>\n",
       "  <tbody>\n",
       "    <tr>\n",
       "      <th>780</th>\n",
       "      <td>0.656209</td>\n",
       "      <td>0.750286</td>\n",
       "      <td>0.857738</td>\n",
       "      <td>0.134155</td>\n",
       "      <td>0.603643</td>\n",
       "    </tr>\n",
       "    <tr>\n",
       "      <th>253</th>\n",
       "      <td>0.548171</td>\n",
       "      <td>0.735595</td>\n",
       "      <td>0.381018</td>\n",
       "      <td>0.060351</td>\n",
       "      <td>0.321491</td>\n",
       "    </tr>\n",
       "    <tr>\n",
       "      <th>363</th>\n",
       "      <td>0.114946</td>\n",
       "      <td>0.515324</td>\n",
       "      <td>0.752938</td>\n",
       "      <td>0.923059</td>\n",
       "      <td>0.243273</td>\n",
       "    </tr>\n",
       "    <tr>\n",
       "      <th>803</th>\n",
       "      <td>0.028652</td>\n",
       "      <td>0.589578</td>\n",
       "      <td>0.867027</td>\n",
       "      <td>0.750823</td>\n",
       "      <td>0.132235</td>\n",
       "    </tr>\n",
       "    <tr>\n",
       "      <th>817</th>\n",
       "      <td>0.212419</td>\n",
       "      <td>0.128977</td>\n",
       "      <td>0.754502</td>\n",
       "      <td>0.213925</td>\n",
       "      <td>0.881621</td>\n",
       "    </tr>\n",
       "    <tr>\n",
       "      <th>...</th>\n",
       "      <td>...</td>\n",
       "      <td>...</td>\n",
       "      <td>...</td>\n",
       "      <td>...</td>\n",
       "      <td>...</td>\n",
       "    </tr>\n",
       "    <tr>\n",
       "      <th>835</th>\n",
       "      <td>0.201415</td>\n",
       "      <td>0.964013</td>\n",
       "      <td>0.764260</td>\n",
       "      <td>0.295204</td>\n",
       "      <td>0.740179</td>\n",
       "    </tr>\n",
       "    <tr>\n",
       "      <th>192</th>\n",
       "      <td>0.292257</td>\n",
       "      <td>0.026424</td>\n",
       "      <td>0.084598</td>\n",
       "      <td>0.686253</td>\n",
       "      <td>0.389535</td>\n",
       "    </tr>\n",
       "    <tr>\n",
       "      <th>629</th>\n",
       "      <td>0.110529</td>\n",
       "      <td>0.945336</td>\n",
       "      <td>0.121768</td>\n",
       "      <td>0.155891</td>\n",
       "      <td>0.573845</td>\n",
       "    </tr>\n",
       "    <tr>\n",
       "      <th>559</th>\n",
       "      <td>0.571496</td>\n",
       "      <td>0.733392</td>\n",
       "      <td>0.173117</td>\n",
       "      <td>0.634349</td>\n",
       "      <td>0.985520</td>\n",
       "    </tr>\n",
       "    <tr>\n",
       "      <th>684</th>\n",
       "      <td>0.995723</td>\n",
       "      <td>0.538276</td>\n",
       "      <td>0.223082</td>\n",
       "      <td>0.482945</td>\n",
       "      <td>0.836621</td>\n",
       "    </tr>\n",
       "  </tbody>\n",
       "</table>\n",
       "<p>749 rows × 5 columns</p>\n",
       "</div>"
      ],
      "text/plain": [
       "          x_1       x_2       x_3       x_4       x_5\n",
       "780  0.656209  0.750286  0.857738  0.134155  0.603643\n",
       "253  0.548171  0.735595  0.381018  0.060351  0.321491\n",
       "363  0.114946  0.515324  0.752938  0.923059  0.243273\n",
       "803  0.028652  0.589578  0.867027  0.750823  0.132235\n",
       "817  0.212419  0.128977  0.754502  0.213925  0.881621\n",
       "..        ...       ...       ...       ...       ...\n",
       "835  0.201415  0.964013  0.764260  0.295204  0.740179\n",
       "192  0.292257  0.026424  0.084598  0.686253  0.389535\n",
       "629  0.110529  0.945336  0.121768  0.155891  0.573845\n",
       "559  0.571496  0.733392  0.173117  0.634349  0.985520\n",
       "684  0.995723  0.538276  0.223082  0.482945  0.836621\n",
       "\n",
       "[749 rows x 5 columns]"
      ]
     },
     "execution_count": 33,
     "metadata": {},
     "output_type": "execute_result"
    }
   ],
   "source": [
    "X_train.loc[:, rfe.support_]"
   ]
  },
  {
   "cell_type": "code",
   "execution_count": 34,
   "id": "4536859e",
   "metadata": {},
   "outputs": [
    {
     "data": {
      "text/plain": [
       "0.875410359050464"
      ]
     },
     "execution_count": 34,
     "metadata": {},
     "output_type": "execute_result"
    }
   ],
   "source": [
    "forest = RandomForestRegressor()\n",
    "_ = forest.fit(rfe.transform(X_train_std), y_train)\n",
    "forest.score(rfe.transform(X_test_std), y_test)"
   ]
  },
  {
   "cell_type": "markdown",
   "id": "987800f6",
   "metadata": {},
   "source": [
    "Производительность улучшилась с использованием только 5 признаков. Проверим, что будет с 4: "
   ]
  },
  {
   "cell_type": "code",
   "execution_count": 35,
   "id": "15db94d1",
   "metadata": {},
   "outputs": [
    {
     "data": {
      "text/plain": [
       "0.8049111162827217"
      ]
     },
     "execution_count": 35,
     "metadata": {},
     "output_type": "execute_result"
    }
   ],
   "source": [
    "rfe = RFE(estimator=RandomForestRegressor(), n_features_to_select=4)\n",
    "_ = rfe.fit(X_train_std, y_train)\n",
    "forest = RandomForestRegressor()\n",
    "_ = forest.fit(rfe.transform(X_train_std), y_train)\n",
    "forest.score(rfe.transform(X_test_std), y_test)"
   ]
  },
  {
   "cell_type": "markdown",
   "id": "ba8bacec",
   "metadata": {},
   "source": [
    "R-squared уменьшился, остановимся на 5 признаках. Посмотрим, что с выбросами у оставшихся признаков, с помощью расстояния Кука:"
   ]
  },
  {
   "cell_type": "code",
   "execution_count": 116,
   "id": "dd2a0eb0",
   "metadata": {},
   "outputs": [],
   "source": [
    "X_train, X_test, y_train, y_test = train_test_split(X[['x_1', 'x_2', 'x_3', 'x_4', 'x_5']], y,random_state=0)"
   ]
  },
  {
   "cell_type": "code",
   "execution_count": 117,
   "id": "b46786fc",
   "metadata": {},
   "outputs": [
    {
     "data": {
      "image/png": "[encoded data removed]",
      "text/plain": [
       "<Figure size 576x396 with 1 Axes>"
      ]
     },
     "metadata": {},
     "output_type": "display_data"
    },
    {
     "data": {
      "text/plain": [
       "<AxesSubplot:title={'center':\"Cook's Distance Outlier Detection\"}, xlabel='instance index', ylabel='influence (I)'>"
      ]
     },
     "execution_count": 117,
     "metadata": {},
     "output_type": "execute_result"
    }
   ],
   "source": [
    "visualizer = CooksDistance()\n",
    "visualizer.fit(X_train, y_train)\n",
    "visualizer.show()"
   ]
  },
  {
   "cell_type": "markdown",
   "id": "7478ea3b",
   "metadata": {},
   "source": [
    "Наличие влиятельных точек говорит о том, что линейная регрессия может не подходить для этого набора данных, проверим нормальность остатков и однородность дисперсии:  "
   ]
  },
  {
   "cell_type": "code",
   "execution_count": 118,
   "id": "ffdd0289",
   "metadata": {},
   "outputs": [
    {
     "data": {
      "image/png": "[encoded data removed]",
      "text/plain": [
       "<Figure size 576x396 with 2 Axes>"
      ]
     },
     "metadata": {},
     "output_type": "display_data"
    },
    {
     "data": {
      "text/plain": [
       "<AxesSubplot:title={'center':'Residuals for LinearRegression Model'}, xlabel='Predicted Value', ylabel='Residuals'>"
      ]
     },
     "execution_count": 118,
     "metadata": {},
     "output_type": "execute_result"
    }
   ],
   "source": [
    "model = LinearRegression()\n",
    "visualizer_residuals = ResidualsPlot(model)\n",
    "visualizer_residuals.fit(X_train, y_train)\n",
    "visualizer_residuals.show()"
   ]
  },
  {
   "cell_type": "markdown",
   "id": "a61f11ce",
   "metadata": {},
   "source": [
    "Остатки в основном около 0, но есть отклонение в положительную сторону"
   ]
  },
  {
   "cell_type": "code",
   "execution_count": 119,
   "id": "970cc50f",
   "metadata": {},
   "outputs": [
    {
     "data": {
      "image/png": "[encoded data removed]",
      "text/plain": [
       "<Figure size 576x396 with 2 Axes>"
      ]
     },
     "metadata": {},
     "output_type": "display_data"
    },
    {
     "data": {
      "text/plain": [
       "<AxesSubplot:title={'center':'Residuals for LinearRegression Model'}, xlabel='Predicted Value', ylabel='Residuals'>"
      ]
     },
     "execution_count": 119,
     "metadata": {},
     "output_type": "execute_result"
    }
   ],
   "source": [
    "i_less_influential = (visualizer.distance_ <= visualizer.influence_threshold_)\n",
    "X_li, y_li = X_train[i_less_influential], y_train[i_less_influential]\n",
    "\n",
    "model = LinearRegression()\n",
    "visualizer_residuals = ResidualsPlot(model)\n",
    "visualizer_residuals.fit(X_li, y_li)\n",
    "visualizer_residuals.show()"
   ]
  },
  {
   "cell_type": "markdown",
   "id": "f9e21985",
   "metadata": {},
   "source": [
    "Результат R-squared для линейной регрессии улучшился. Почистим датасет от выбросов. "
   ]
  },
  {
   "cell_type": "code",
   "execution_count": 132,
   "id": "d77d2303",
   "metadata": {},
   "outputs": [
    {
     "data": {
      "text/plain": [
       "0.8156752983099377"
      ]
     },
     "execution_count": 132,
     "metadata": {},
     "output_type": "execute_result"
    }
   ],
   "source": [
    "visualizer = CooksDistance()\n",
    "visualizer.fit(X[['x_1', 'x_2', 'x_3', 'x_4', 'x_5']], y)\n",
    "i_less_influential = (visualizer.distance_ <= visualizer.influence_threshold_)\n",
    "df_li = df[i_less_influential]\n",
    "df_li = df_li[['x_1', 'x_2', 'x_3', 'x_4', 'x_5', 'y']]\n",
    "X_li = df_li.drop(['y'],axis=1)\n",
    "y_li = df_li['y']\n",
    "model = LinearRegression()\n",
    "model.fit(X_li, y_li)\n",
    "model.score(X_li, y_li)"
   ]
  },
  {
   "cell_type": "markdown",
   "id": "649a4f34",
   "metadata": {},
   "source": [
    "Удаление незначимых признаков и выбросов улучшило значение R-squared с 0.74 до 0.82. \n",
    "Как еще можно улучшить результат? Т.к. на графике наблюдалась квадратичная зависимость целевой переменной, попробуем построить модель с квадратами:"
   ]
  },
  {
   "cell_type": "code",
   "execution_count": 143,
   "id": "0b90f04e",
   "metadata": {},
   "outputs": [
    {
     "data": {
      "text/html": [
       "<table class=\"simpletable\">\n",
       "<caption>OLS Regression Results</caption>\n",
       "<tr>\n",
       "  <th>Dep. Variable:</th>            <td>y</td>        <th>  R-squared:         </th> <td>   0.942</td>\n",
       "</tr>\n",
       "<tr>\n",
       "  <th>Model:</th>                   <td>OLS</td>       <th>  Adj. R-squared:    </th> <td>   0.941</td>\n",
       "</tr>\n",
       "<tr>\n",
       "  <th>Method:</th>             <td>Least Squares</td>  <th>  F-statistic:       </th> <td>   1494.</td>\n",
       "</tr>\n",
       "<tr>\n",
       "  <th>Date:</th>             <td>Mon, 16 May 2022</td> <th>  Prob (F-statistic):</th>  <td>  0.00</td> \n",
       "</tr>\n",
       "<tr>\n",
       "  <th>Time:</th>                 <td>10:38:27</td>     <th>  Log-Likelihood:    </th> <td> -1437.5</td>\n",
       "</tr>\n",
       "<tr>\n",
       "  <th>No. Observations:</th>      <td>   937</td>      <th>  AIC:               </th> <td>   2897.</td>\n",
       "</tr>\n",
       "<tr>\n",
       "  <th>Df Residuals:</th>          <td>   926</td>      <th>  BIC:               </th> <td>   2950.</td>\n",
       "</tr>\n",
       "<tr>\n",
       "  <th>Df Model:</th>              <td>    10</td>      <th>                     </th>     <td> </td>   \n",
       "</tr>\n",
       "<tr>\n",
       "  <th>Covariance Type:</th>      <td>nonrobust</td>    <th>                     </th>     <td> </td>   \n",
       "</tr>\n",
       "</table>\n",
       "<table class=\"simpletable\">\n",
       "<tr>\n",
       "          <td></td>            <th>coef</th>     <th>std err</th>      <th>t</th>      <th>P>|t|</th>  <th>[0.025</th>    <th>0.975]</th>  \n",
       "</tr>\n",
       "<tr>\n",
       "  <th>Intercept</th>        <td>    0.1839</td> <td>    0.245</td> <td>    0.750</td> <td> 0.453</td> <td>   -0.297</td> <td>    0.665</td>\n",
       "</tr>\n",
       "<tr>\n",
       "  <th>x_1</th>              <td>   17.6716</td> <td>    0.503</td> <td>   35.146</td> <td> 0.000</td> <td>   16.685</td> <td>   18.658</td>\n",
       "</tr>\n",
       "<tr>\n",
       "  <th>x_2</th>              <td>   17.2627</td> <td>    0.537</td> <td>   32.143</td> <td> 0.000</td> <td>   16.209</td> <td>   18.317</td>\n",
       "</tr>\n",
       "<tr>\n",
       "  <th>x_3</th>              <td>  -19.3855</td> <td>    0.538</td> <td>  -36.040</td> <td> 0.000</td> <td>  -20.441</td> <td>  -18.330</td>\n",
       "</tr>\n",
       "<tr>\n",
       "  <th>x_4</th>              <td>    9.8417</td> <td>    0.522</td> <td>   18.855</td> <td> 0.000</td> <td>    8.817</td> <td>   10.866</td>\n",
       "</tr>\n",
       "<tr>\n",
       "  <th>x_5</th>              <td>    4.3660</td> <td>    0.526</td> <td>    8.301</td> <td> 0.000</td> <td>    3.334</td> <td>    5.398</td>\n",
       "</tr>\n",
       "<tr>\n",
       "  <th>np.power(x_1, 2)</th> <td>  -10.0944</td> <td>    0.505</td> <td>  -19.982</td> <td> 0.000</td> <td>  -11.086</td> <td>   -9.103</td>\n",
       "</tr>\n",
       "<tr>\n",
       "  <th>np.power(x_2, 2)</th> <td>  -10.0460</td> <td>    0.528</td> <td>  -19.018</td> <td> 0.000</td> <td>  -11.083</td> <td>   -9.009</td>\n",
       "</tr>\n",
       "<tr>\n",
       "  <th>np.power(x_3, 2)</th> <td>   19.3218</td> <td>    0.524</td> <td>   36.842</td> <td> 0.000</td> <td>   18.293</td> <td>   20.351</td>\n",
       "</tr>\n",
       "<tr>\n",
       "  <th>np.power(x_4, 2)</th> <td>   -0.0622</td> <td>    0.503</td> <td>   -0.124</td> <td> 0.902</td> <td>   -1.049</td> <td>    0.925</td>\n",
       "</tr>\n",
       "<tr>\n",
       "  <th>np.power(x_5, 2)</th> <td>    0.6098</td> <td>    0.502</td> <td>    1.216</td> <td> 0.224</td> <td>   -0.374</td> <td>    1.594</td>\n",
       "</tr>\n",
       "</table>\n",
       "<table class=\"simpletable\">\n",
       "<tr>\n",
       "  <th>Omnibus:</th>       <td>65.605</td> <th>  Durbin-Watson:     </th> <td>   1.999</td>\n",
       "</tr>\n",
       "<tr>\n",
       "  <th>Prob(Omnibus):</th> <td> 0.000</td> <th>  Jarque-Bera (JB):  </th> <td> 149.998</td>\n",
       "</tr>\n",
       "<tr>\n",
       "  <th>Skew:</th>          <td> 0.408</td> <th>  Prob(JB):          </th> <td>2.68e-33</td>\n",
       "</tr>\n",
       "<tr>\n",
       "  <th>Kurtosis:</th>      <td> 4.782</td> <th>  Cond. No.          </th> <td>    35.9</td>\n",
       "</tr>\n",
       "</table><br/><br/>Notes:<br/>[1] Standard Errors assume that the covariance matrix of the errors is correctly specified."
      ],
      "text/plain": [
       "<class 'statsmodels.iolib.summary.Summary'>\n",
       "\"\"\"\n",
       "                            OLS Regression Results                            \n",
       "==============================================================================\n",
       "Dep. Variable:                      y   R-squared:                       0.942\n",
       "Model:                            OLS   Adj. R-squared:                  0.941\n",
       "Method:                 Least Squares   F-statistic:                     1494.\n",
       "Date:                Mon, 16 May 2022   Prob (F-statistic):               0.00\n",
       "Time:                        10:38:27   Log-Likelihood:                -1437.5\n",
       "No. Observations:                 937   AIC:                             2897.\n",
       "Df Residuals:                     926   BIC:                             2950.\n",
       "Df Model:                          10                                         \n",
       "Covariance Type:            nonrobust                                         \n",
       "====================================================================================\n",
       "                       coef    std err          t      P>|t|      [0.025      0.975]\n",
       "------------------------------------------------------------------------------------\n",
       "Intercept            0.1839      0.245      0.750      0.453      -0.297       0.665\n",
       "x_1                 17.6716      0.503     35.146      0.000      16.685      18.658\n",
       "x_2                 17.2627      0.537     32.143      0.000      16.209      18.317\n",
       "x_3                -19.3855      0.538    -36.040      0.000     -20.441     -18.330\n",
       "x_4                  9.8417      0.522     18.855      0.000       8.817      10.866\n",
       "x_5                  4.3660      0.526      8.301      0.000       3.334       5.398\n",
       "np.power(x_1, 2)   -10.0944      0.505    -19.982      0.000     -11.086      -9.103\n",
       "np.power(x_2, 2)   -10.0460      0.528    -19.018      0.000     -11.083      -9.009\n",
       "np.power(x_3, 2)    19.3218      0.524     36.842      0.000      18.293      20.351\n",
       "np.power(x_4, 2)    -0.0622      0.503     -0.124      0.902      -1.049       0.925\n",
       "np.power(x_5, 2)     0.6098      0.502      1.216      0.224      -0.374       1.594\n",
       "==============================================================================\n",
       "Omnibus:                       65.605   Durbin-Watson:                   1.999\n",
       "Prob(Omnibus):                  0.000   Jarque-Bera (JB):              149.998\n",
       "Skew:                           0.408   Prob(JB):                     2.68e-33\n",
       "Kurtosis:                       4.782   Cond. No.                         35.9\n",
       "==============================================================================\n",
       "\n",
       "Notes:\n",
       "[1] Standard Errors assume that the covariance matrix of the errors is correctly specified.\n",
       "\"\"\""
      ]
     },
     "execution_count": 143,
     "metadata": {},
     "output_type": "execute_result"
    }
   ],
   "source": [
    "import statsmodels.formula.api as smf\n",
    "est = smf.ols(formula='y ~ x_1 + x_2 + x_3 + x_4 + x_5 + np.power(x_1,2) + np.power(x_2,2) + np.power(x_3,2) + np.power(x_4,2) + np.power(x_5,2)',\n",
    "              data=df_li).fit()\n",
    "est.summary()"
   ]
  },
  {
   "cell_type": "markdown",
   "id": "845d3765",
   "metadata": {},
   "source": [
    "Итого, чтобы улучшить модель:  \n",
    "\n",
    "    1. Использовать значимые переменные 'x_1', 'x_2', 'x_3', 'x_4', 'x_5',\n",
    "    2. Исключить выбросы отдельных наблюдений,\n",
    "    3. Использовать модель с квадратами отобранных признаков."
   ]
  }
 ],
 "metadata": {
  "kernelspec": {
   "display_name": "Python 3 (ipykernel)",
   "language": "python",
   "name": "python3"
  },
  "language_info": {
   "codemirror_mode": {
    "name": "ipython",
    "version": 3
   },
   "file_extension": ".py",
   "mimetype": "text/x-python",
   "name": "python",
   "nbconvert_exporter": "python",
   "pygments_lexer": "ipython3",
   "version": "3.9.7"
  }
 },
 "nbformat": 4,
 "nbformat_minor": 5
}
